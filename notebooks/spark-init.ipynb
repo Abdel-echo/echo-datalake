{
 "cells": [
  {
   "cell_type": "code",
   "execution_count": 2,
   "id": "d3097ce3-b211-4f08-82cd-7b71183712a4",
   "metadata": {},
   "outputs": [],
   "source": [
    "from minio import Minio\n",
    "from pyspark.sql import SparkSession\n",
    "from pyspark.sql.types import StructField, StructType, FloatType, IntegerType, ArrayType, StringType"
   ]
  },
  {
   "cell_type": "code",
   "execution_count": 4,
   "id": "3a5bf8a4-06ad-4d90-8e78-19255659e9e8",
   "metadata": {},
   "outputs": [],
   "source": [
    "spark = SparkSession \\\n",
    "            .builder \\\n",
    "            .appName(\"sql request\") \\\n",
    "            .config(\"spark.hadoop.fs.s3a.access.key\", \"MINIOADMIN\") \\\n",
    "            .config(\"spark.hadoop.fs.s3a.secret.key\", \"MINIOAADMIN\") \\\n",
    "            .config(\"spark.hadoop.fs.s3a.endpoint\", \"http://minio:9000\") \\\n",
    "            .config(\"spark.hadoop.fs.s3a.path.style.access\", \"true\") \\\n",
    "            .config(\"spark.hadoop.fs.s3a.impl\", \"org.apache.hadoop.fs.s3a.S3AFileSystem\") \\\n",
    "            .config(\"spark.hadoop.fs.s3a.aws.credentials.provider\", \"org.apache.hadoop.fs.s3a.SimpleAWSCredentialsProvider\") \\\n",
    "            .config(\"spark.jars\",\"/opt/bitnami/spark/jars/hadoop-aws-3.3.0.jar,/opt/bitnami/spark/jars/hadoop-client-3.3.0.jar,/opt/bitnami/spark/jars/aws-java-sdk-bundle-1.12.772.jar,/opt/bitnami/spark/jars/aws-java-sdk-s3-1.12.772.jar,/opt/bitnami/spark/jars/aws-java-sdk-1.12.772.jar\") \\\n",
    "            .getOrCreate()\n",
    "spark.sparkContext.setLogLevel(\"ERROR\")"
   ]
  },
  {
   "cell_type": "code",
   "execution_count": 5,
   "id": "8a73bba0-7779-40a3-a05e-d494ea1768b7",
   "metadata": {},
   "outputs": [],
   "source": [
    "source_audio_table = spark.read.parquet(\"s3a://bronze/audio/audio_tables\")"
   ]
  },
  {
   "cell_type": "code",
   "execution_count": 6,
   "id": "bab3f438-1e43-49f0-a801-e915abc79dec",
   "metadata": {},
   "outputs": [
    {
     "name": "stderr",
     "output_type": "stream",
     "text": [
      "                                                                                \r"
     ]
    },
    {
     "name": "stdout",
     "output_type": "stream",
     "text": [
      "+---------+-----------+--------------------+\n",
      "|file_name|sample_rate|          audio_data|\n",
      "+---------+-----------+--------------------+\n",
      "|h01_4.wav|      16000|[-6.190241E-4, -8...|\n",
      "|h01_5.wav|      16000|[-5.483569E-4, -0...|\n",
      "|h01_6.wav|      16000|[-1.6835198E-4, -...|\n",
      "|h01_1.wav|      16000|[9.6013956E-4, 0....|\n",
      "|h01_2.wav|      16000|[1.3717019E-5, 2....|\n",
      "|h01_3.wav|      16000|[-0.0012677837, -...|\n",
      "+---------+-----------+--------------------+\n",
      "\n"
     ]
    }
   ],
   "source": [
    "source_audio_table.createOrReplaceTempView(\"source_audio_table\")\n",
    "source_audio = spark.sql(\"SELECT * FROM source_audio_table\")\n",
    "source_audio.show()"
   ]
  },
  {
   "cell_type": "code",
   "execution_count": null,
   "id": "33f715fd-679a-4b12-aa20-600270759f48",
   "metadata": {},
   "outputs": [],
   "source": []
  }
 ],
 "metadata": {
  "kernelspec": {
   "display_name": "Python 3 (ipykernel)",
   "language": "python",
   "name": "python3"
  },
  "language_info": {
   "codemirror_mode": {
    "name": "ipython",
    "version": 3
   },
   "file_extension": ".py",
   "mimetype": "text/x-python",
   "name": "python",
   "nbconvert_exporter": "python",
   "pygments_lexer": "ipython3",
   "version": "3.9.16"
  }
 },
 "nbformat": 4,
 "nbformat_minor": 5
}
